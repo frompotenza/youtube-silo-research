{
 "cells": [
  {
   "cell_type": "code",
   "execution_count": 2,
   "metadata": {},
   "outputs": [
    {
     "name": "stderr",
     "output_type": "stream",
     "text": [
      "[nltk_data] Downloading package stopwords to\n",
      "[nltk_data]     C:\\Users\\yangy\\AppData\\Roaming\\nltk_data...\n",
      "[nltk_data]   Package stopwords is already up-to-date!\n"
     ]
    },
    {
     "data": {
      "text/plain": [
       "True"
      ]
     },
     "execution_count": 2,
     "metadata": {},
     "output_type": "execute_result"
    }
   ],
   "source": [
    "import pandas as pd\n",
    "import nltk\n",
    "import re\n",
    "import json\n",
    "from nltk.corpus import stopwords\n",
    "nltk.download('stopwords')"
   ]
  },
  {
   "cell_type": "code",
   "execution_count": 9,
   "metadata": {},
   "outputs": [
    {
     "name": "stdout",
     "output_type": "stream",
     "text": [
      "   Unnamed: 0                       User     Query  \\\n",
      "0           0  fprometheusfreq@gmail.com  feminism   \n",
      "1           1  fprometheusfreq@gmail.com  feminism   \n",
      "2           2  fprometheusfreq@gmail.com  feminism   \n",
      "3           3  fprometheusfreq@gmail.com  feminism   \n",
      "4           4  fprometheusfreq@gmail.com  feminism   \n",
      "\n",
      "                                              Titles  \\\n",
      "0  What is feminism? | A-Z of ISMSs Episode 6 - B...   \n",
      "1  Feminism is changing... for the worse! | Nina ...   \n",
      "2  Men's Rights vs Feminism: Is Toxic Masculinity...   \n",
      "3  Why feminism needs men - and men need feminism...   \n",
      "4  Emma Watson Explains Why Some Men Have Trouble...   \n",
      "\n",
      "                                           URL  \n",
      "0  https://www.youtube.com/watch?v=91ZWRf3GA6k  \n",
      "1  https://www.youtube.com/watch?v=fXk7I_KUj4Q  \n",
      "2  https://www.youtube.com/watch?v=hOUGNGWmN0k  \n",
      "3  https://www.youtube.com/watch?v=3Xu2JE2LoEY  \n",
      "4  https://www.youtube.com/watch?v=4xWJf8cERoM  \n"
     ]
    }
   ],
   "source": [
    "df = pd.read_csv(r'..\\youtube-silo-research\\res\\after_experiment.csv')"
   ]
  },
  {
   "cell_type": "code",
   "execution_count": 16,
   "metadata": {},
   "outputs": [],
   "source": [
    "def generate_N_grams(text,ngram):\n",
    "  words=[word for word in text.split(\" \") if word not in set(stopwords.words('english'))]\n",
    "  temp=zip(*[words[i:] for i in range(0,ngram)])\n",
    "  ans=[' '.join(ngram) for ngram in temp]\n",
    "  return ans\n",
    "\n",
    "def word_count(account,words):\n",
    "  res = {}\n",
    "  for text in df[(df['User'] == account)&(df['Query'].isin(words))].Clean_Titles:\n",
    "    for word in generate_N_grams(str(text),ngram=3):\n",
    "      if word in res:\n",
    "        res[word]+=1\n",
    "      else:\n",
    "        res[word] = 1\n",
    "  return res\n",
    "\n",
    "def output_data(data,title):\n",
    "  with open(r'.\\res\\3-gram\\before_f_{title}.json'.format(title=title), 'w', encoding='utf-8') as f:\n",
    "      json.dump(data, f, ensure_ascii=False, indent=4)\n",
    "\n",
    "def clean_data(df):\n",
    "  df['Clean_Titles'] = df['Titles'].str.replace('[^\\w\\s#@/:%.,_0-9]', '', flags=re.UNICODE)\n",
    "  df['Clean_Titles'] = df['Clean_Titles'].str.lower()\n",
    "  df['Clean_Titles'] = df['Clean_Titles'].str.replace('  ',' ')\n",
    "  return df\n"
   ]
  },
  {
   "cell_type": "code",
   "execution_count": 17,
   "metadata": {},
   "outputs": [
    {
     "name": "stderr",
     "output_type": "stream",
     "text": [
      "<ipython-input-16-daf4dfcc5835>:24: FutureWarning: The default value of regex will change from True to False in a future version.\n",
      "  df['Clean_Titles'] = df['Titles'].str.replace('[^\\w\\s#@/:%.,_0-9]', '', flags=re.UNICODE)\n"
     ]
    }
   ],
   "source": [
    "df = clean_data(df)\n",
    "words = ['feminism', \"men's right\", \"liberal\", \"conservative\",\"abortion\",\n",
    "         \"Male gaze\", \"Female gaze\", \"mgtow\", \"outfit\", \"fashion\",\"jobs for women\", \"jobs for men\", \"product reviews\", \"weight loss\"]\n",
    "for w in words:\n",
    "    myres = word_count('mprometheusfreq@gmail.com', [w])\n",
    "    myres = dict(sorted(myres.items(), key=lambda item: item[1], reverse=True))\n",
    "    output_data(myres, w)"
   ]
  }
 ],
 "metadata": {
  "kernelspec": {
   "display_name": "Python 3.8.5 ('base')",
   "language": "python",
   "name": "python3"
  },
  "language_info": {
   "codemirror_mode": {
    "name": "ipython",
    "version": 3
   },
   "file_extension": ".py",
   "mimetype": "text/x-python",
   "name": "python",
   "nbconvert_exporter": "python",
   "pygments_lexer": "ipython3",
   "version": "3.8.5"
  },
  "orig_nbformat": 4,
  "vscode": {
   "interpreter": {
    "hash": "4ca323012da420263ee85261cb8f0b3322dc316491c11f5c17c5d5f5dbaee9b4"
   }
  }
 },
 "nbformat": 4,
 "nbformat_minor": 2
}
